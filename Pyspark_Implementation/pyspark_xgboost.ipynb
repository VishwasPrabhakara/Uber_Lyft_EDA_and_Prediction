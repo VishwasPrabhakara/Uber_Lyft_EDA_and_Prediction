{
 "cells": [
  {
   "cell_type": "code",
   "execution_count": 1,
   "metadata": {},
   "outputs": [],
   "source": [
    "from pyspark.sql import SparkSession\n",
    "spark = SparkSession.builder.appName(\"Uber Lyft Prediction\").getOrCreate()"
   ]
  },
  {
   "cell_type": "code",
   "execution_count": 2,
   "metadata": {},
   "outputs": [
    {
     "name": "stdout",
     "output_type": "stream",
     "text": [
      "+--------------------+----------------+----+---+-----+-------------------+----------------+----------------+--------------------+--------+--------------------+------------+-----+--------+----------------+--------+---------+-----------+-------------------+---------------+--------------------+---------------+-----------------+--------+---------+--------+------------+----------+---------------+-------------------+--------------+------------------+-----------------------+---------------------------+----------------------+--------------------------+--------------------+--------+--------+-----------+----------+-------+------------+-----+-----------+----------+---------+------------------+-----------+--------------+------------------+--------------+------------------+----------------------+--------------------------+----------------------+--------------------------+\n",
      "|                  id|       timestamp|hour|day|month|           datetime|        timezone|          source|         destination|cab_type|          product_id|        name|price|distance|surge_multiplier|latitude|longitude|temperature|apparentTemperature|  short_summary|        long_summary|precipIntensity|precipProbability|humidity|windSpeed|windGust|windGustTime|visibility|temperatureHigh|temperatureHighTime|temperatureLow|temperatureLowTime|apparentTemperatureHigh|apparentTemperatureHighTime|apparentTemperatureLow|apparentTemperatureLowTime|                icon|dewPoint|pressure|windBearing|cloudCover|uvIndex|visibility.1|ozone|sunriseTime|sunsetTime|moonPhase|precipIntensityMax|uvIndexTime|temperatureMin|temperatureMinTime|temperatureMax|temperatureMaxTime|apparentTemperatureMin|apparentTemperatureMinTime|apparentTemperatureMax|apparentTemperatureMaxTime|\n",
      "+--------------------+----------------+----+---+-----+-------------------+----------------+----------------+--------------------+--------+--------------------+------------+-----+--------+----------------+--------+---------+-----------+-------------------+---------------+--------------------+---------------+-----------------+--------+---------+--------+------------+----------+---------------+-------------------+--------------+------------------+-----------------------+---------------------------+----------------------+--------------------------+--------------------+--------+--------+-----------+----------+-------+------------+-----+-----------+----------+---------+------------------+-----------+--------------+------------------+--------------+------------------+----------------------+--------------------------+----------------------+--------------------------+\n",
      "|424553bb-7174-41e...| 1.54495260789E9|   9| 16|   12|2018-12-16 09:30:07|America/New_York|Haymarket Square|       North Station|    Lyft|           lyft_line|      Shared|    5|    0.44|             1.0| 42.2148|  -71.033|      42.34|              37.12| Mostly Cloudy | Rain throughout ...|            0.0|              0.0|    0.68|     8.66|    9.17|  1545015600|      10.0|          43.68|         1544968800|         34.19|        1545048000|                  37.95|                 1544968800|                 27.39|                1545044400| partly-cloudy-ni...|    32.7| 1021.98|         57|      0.72|      0|        10.0|303.8| 1544962084|1544994864|      0.3|            0.1276| 1544979600|         39.89|        1545012000|         43.68|        1544968800|                 33.73|                1545012000|                 38.07|                1544958000|\n",
      "|4bd23055-6827-41c...|1.543284023677E9|   2| 27|   11|2018-11-27 02:00:23|America/New_York|Haymarket Square|       North Station|    Lyft|        lyft_premier|         Lux|   11|    0.44|             1.0| 42.2148|  -71.033|      43.58|              37.35|          Rain | Rain until morni...|         0.1299|              1.0|    0.94|    11.98|   11.98|  1543291200|     4.786|           47.3|         1543251600|          42.1|        1543298400|                  43.92|                 1543251600|                  36.2|                1543291200|               rain |   41.83| 1003.97|         90|       1.0|      0|       4.786|291.1| 1543232969|1543266992|     0.64|              0.13| 1543251600|         40.49|        1543233600|          47.3|        1543251600|                  36.2|                1543291200|                 43.92|                1543251600|\n",
      "|981a3613-77af-462...|1.543366822198E9|   1| 28|   11|2018-11-28 01:00:22|America/New_York|Haymarket Square|       North Station|    Lyft|                lyft|        Lyft|    7|    0.44|             1.0| 42.2148|  -71.033|      38.33|              32.93|         Clear | Light rain in th...|            0.0|              0.0|    0.75|     7.33|    7.33|  1543334400|      10.0|          47.55|         1543320000|          33.1|        1543402800|                  44.12|                 1543320000|                 29.11|                1543392000|        clear-night |    31.1|  992.28|        240|      0.03|      0|        10.0|315.7| 1543319437|1543353364|     0.68|            0.1064| 1543338000|         35.36|        1543377600|         47.55|        1543320000|                 31.04|                1543377600|                 44.12|                1543320000|\n",
      "|c2d88af2-d278-4bf...|1.543553582749E9|   4| 30|   11|2018-11-30 04:53:02|America/New_York|Haymarket Square|       North Station|    Lyft|         lyft_luxsuv|Lux Black XL|   26|    0.44|             1.0| 42.2148|  -71.033|      34.38|              29.63|         Clear | Partly cloudy th...|            0.0|              0.0|    0.73|     5.28|    5.28|  1543514400|      10.0|          45.03|         1543510800|          28.9|        1543579200|                  38.53|                 1543510800|                  26.2|                1543575600|        clear-night |   26.64| 1013.73|        310|       0.0|      0|        10.0|291.1| 1543492370|1543526114|     0.75|               0.0| 1543507200|         34.67|        1543550400|         45.03|        1543510800|                  30.3|                1543550400|                 38.53|                1543510800|\n",
      "|e0126e1f-8ca9-4f2...|1.543463360223E9|   3| 29|   11|2018-11-29 03:49:20|America/New_York|Haymarket Square|       North Station|    Lyft|           lyft_plus|     Lyft XL|    9|    0.44|             1.0| 42.2148|  -71.033|      37.44|              30.88| Partly Cloudy | Mostly cloudy th...|            0.0|              0.0|     0.7|     9.14|    9.14|  1543446000|      10.0|          42.18|         1543420800|         36.71|        1543478400|                  35.75|                 1543420800|                 30.29|                1543460400| partly-cloudy-ni...|   28.61|  998.36|        303|      0.44|      0|        10.0|347.7| 1543405904|1543439738|     0.72|            1.0E-4| 1543420800|          33.1|        1543402800|         42.18|        1543420800|                 29.11|                1543392000|                 35.75|                1543420800|\n",
      "|f6f6d7e4-3e18-492...|1.545071112138E9|  18| 17|   12|2018-12-17 18:25:12|America/New_York|Haymarket Square|       North Station|    Lyft|            lyft_lux|   Lux Black| 16.5|    0.44|             1.0| 42.2148|  -71.033|      38.75|              33.51|      Overcast | Light rain in th...|            0.0|              0.0|    0.84|     7.19|    8.88|  1545022800|     8.325|          40.61|         1545076800|         24.07|        1545130800|                  34.97|                 1545080400|                 12.04|                1545134400|             cloudy |   34.41| 1000.46|        294|       1.0|      1|       8.325|335.8| 1545048523|1545081282|     0.33|            0.0221| 1545066000|         34.19|        1545048000|         40.66|        1545022800|                 27.39|                1545044400|                 34.97|                1545080400|\n",
      "|462816a3-820d-408...|  1.5432085802E9|   5| 26|   11|2018-11-26 05:03:00|America/New_York|        Back Bay|Northeastern Univ...|    Lyft|           lyft_plus|     Lyft XL| 10.5|    1.08|             1.0| 42.3503|  -71.081|      41.99|              41.99|      Overcast | Rain until morni...|            0.0|              0.0|    0.91|     0.53|    0.88|  1543287600|     4.675|          46.46|         1543255200|         42.17|        1543298400|                  43.81|                 1543251600|                 37.08|                1543298400|             cloudy |   39.54| 1014.11|         91|       1.0|      0|       4.675|312.3| 1543233004|1543266980|     0.64|            0.1245| 1543251600|         40.67|        1543233600|         46.46|        1543255200|                 37.45|                1543291200|                 43.81|                1543251600|\n",
      "|474d6376-bc59-4ec...|1.543780384677E9|  19|  2|   12|2018-12-02 19:53:04|America/New_York|        Back Bay|Northeastern Univ...|    Lyft|            lyft_lux|   Lux Black| 16.5|    1.08|             1.0| 42.3503|  -71.081|      49.88|              49.22|    Light Rain | Light rain until...|         0.0246|              1.0|    0.93|     3.38|    3.38|  1543755600|     3.052|           50.8|         1543788000|         44.97|        1543816800|                  50.13|                 1543788000|                 45.62|                1543816800|               rain |   48.02| 1004.33|        159|       1.0|      0|       3.052|282.5| 1543751798|1543785242|     0.86|            0.0916| 1543770000|         36.32|        1543726800|          50.8|        1543788000|                 35.84|                1543748400|                 50.13|                1543788000|\n",
      "|4f9fee41-fde3-476...|1.543818482645E9|   6|  3|   12|2018-12-03 06:28:02|America/New_York|        Back Bay|Northeastern Univ...|    Lyft|           lyft_line|      Shared|    3|    1.08|             1.0| 42.3503|  -71.081|      45.58|              45.58|         Foggy | Foggy in the mor...|            0.0|              0.0|    0.96|     1.25|    2.09|  1543856400|     1.413|          57.02|         1543852800|         33.74|        1543921200|                  56.35|                 1543852800|                 28.53|                1543914000|                fog |    44.5| 1001.06|        307|       1.0|      0|       1.413|290.9| 1543838259|1543871628|     0.89|            4.0E-4| 1543852800|         43.09|        1543896000|         57.02|        1543852800|                  39.9|                1543896000|                 56.35|                1543852800|\n",
      "|8612d909-98b8-445...|1.543315522249E9|  10| 27|   11|2018-11-27 10:45:22|America/New_York|        Back Bay|Northeastern Univ...|    Lyft|         lyft_luxsuv|Lux Black XL| 27.5|    1.08|             1.0| 42.3503|  -71.081|      45.45|              41.77|    Light Rain | Light rain in th...|         0.0624|              1.0|    0.93|     6.87|    7.42|  1543338000|     2.686|          46.91|         1543320000|         33.82|        1543399200|                  44.01|                 1543320000|                 30.19|                1543399200|               rain |   43.52|  989.98|         79|       1.0|      0|       2.686|296.2| 1543319472|1543353352|     0.68|            0.1425| 1543338000|         36.34|        1543377600|         46.91|        1543320000|                 32.43|                1543377600|                 44.01|                1543320000|\n",
      "|9043bf77-1d45-4a9...|1.543594383882E9|  16| 30|   11|2018-11-30 16:13:03|America/New_York|        Back Bay|Northeastern Univ...|    Lyft|        lyft_premier|         Lux| 13.5|    1.08|             1.0| 42.3503|  -71.081|      40.13|               38.0|         Clear | Mostly cloudy th...|            0.0|              0.0|    0.62|     3.46|    4.47|  1543554000|      9.92|          42.32|         1543600800|         31.57|        1543665600|                  40.48|                 1543611600|                  28.1|                1543658400|          clear-day |   27.99| 1016.84|        291|      0.12|      2|        9.92|269.9| 1543578871|1543612479|     0.79|            4.0E-4| 1543593600|         28.64|        1543579200|         42.32|        1543600800|                 29.29|                1543579200|                 40.48|                1543611600|\n",
      "|d859ec69-b3ff-4af...|1.543432987778E9|  19| 28|   11|2018-11-28 19:23:07|America/New_York|        Back Bay|Northeastern Univ...|    Lyft|                lyft|        Lyft|    7|    1.08|             1.0| 42.3503|  -71.081|      41.47|              35.66|      Overcast | Mostly cloudy th...|            0.0|              0.0|    0.63|     9.54|   14.86|  1543431600|      10.0|          42.72|         1543438800|         37.59|        1543485600|                  36.75|                 1543438800|                 32.25|                1543478400|             cloudy |   29.72|  991.85|        295|       1.0|      0|        10.0|354.2| 1543405940|1543439725|     0.72|               0.0| 1543420800|         33.82|        1543399200|         42.72|        1543438800|                 30.19|                1543399200|                 36.75|                1543438800|\n",
      "|009e9c53-074d-43c...|1.543615981179E9|  22| 30|   11|2018-11-30 22:13:01|America/New_York|       North End|            West End|    Uber|6f72dfc5-27f1-42e...|      UberXL|   12|    1.11|             1.0| 42.3647| -71.0542|      40.13|              38.08|      Overcast | Mostly cloudy th...|            0.0|              0.0|     0.6|     3.38|    3.99|  1543554000|     9.833|          42.52|         1543600800|         31.71|        1543658400|                  40.53|                 1543611600|                 28.06|                1543658400|             cloudy |   27.31| 1017.16|        281|       1.0|      0|       9.833|281.8| 1543578867|1543612470|     0.79|            3.0E-4| 1543593600|         28.79|        1543579200|         42.52|        1543600800|                 26.41|                1543575600|                 40.53|                1543611600|\n",
      "|23f145da-f0c1-4d1...|1.544698211014E9|  10| 13|   12|2018-12-13 10:50:11|America/New_York|       North End|            West End|    Uber|6c84fd89-3f11-478...|       Black|   16|    1.11|             1.0| 42.3647| -71.0542|      20.38|              20.38|         Clear | Partly cloudy th...|            0.0|              0.0|    0.66|     2.94|    3.22|  1544738400|     9.831|          33.83|         1544731200|         27.27|        1544781600|                  32.85|                 1544734800|                 24.61|                1544785200|        clear-night |   10.87| 1031.51|          2|      0.03|      0|       9.831|327.3| 1544702792|1544735599|     0.21|            1.0E-4| 1544716800|         18.29|        1544688000|         33.83|        1544731200|                 13.79|                1544688000|                 32.85|                1544734800|\n",
      "|357559cb-8c58-427...|1.544728503935E9|  19| 13|   12|2018-12-13 19:15:03|America/New_York|       North End|            West End|    Uber|55c66225-fbe7-4fd...|       UberX|  7.5|    1.11|             1.0| 42.3647| -71.0542|      32.85|              32.85| Mostly Cloudy | Partly cloudy th...|            0.0|              0.0|    0.56|     2.65|    3.83|  1544738400|     9.959|          33.83|         1544731200|         27.27|        1544781600|                  32.85|                 1544734800|                 24.61|                1544785200|  partly-cloudy-day |   18.66| 1033.65|         76|      0.64|      0|       9.959|330.8| 1544702792|1544735599|     0.21|            1.0E-4| 1544716800|         18.29|        1544688000|         33.83|        1544731200|                 13.79|                1544688000|                 32.85|                1544734800|\n",
      "|50ef1165-9d23-416...| 1.54500451143E9|  23| 16|   12|2018-12-16 23:55:11|America/New_York|       North End|            West End|    Uber|9a0e7b09-b92b-4c4...|         WAV|  7.5|    1.11|             1.0| 42.3647| -71.0542|      41.29|              36.01|    Light Rain | Rain throughout ...|         0.0567|             0.94|    0.86|      8.3|     8.3|  1545015600|     4.054|          43.83|         1544990400|         34.25|        1545044400|                  38.38|                 1544986800|                  28.3|                1545044400|               rain |   37.56| 1012.72|         57|       1.0|      0|       4.054|325.3| 1544962119|1544994839|      0.3|            0.1252| 1544979600|         39.22|        1544954400|         43.83|        1544990400|                 33.98|                1545019200|                 38.38|                1544986800|\n",
      "|91c4861c-1780-42b...|1.544748007961E9|   0| 14|   12|2018-12-14 00:40:07|America/New_York|       North End|            West End|    Uber|6d318bcc-22a3-4af...|   Black SUV|   26|    1.11|             1.0| 42.3647| -71.0542|      31.25|              31.25|      Overcast | Partly cloudy th...|            0.0|              0.0|    0.64|     2.62|    3.54|  1544738400|      10.0|          33.83|         1544731200|         27.27|        1544781600|                  32.85|                 1544734800|                 24.61|                1544785200|             cloudy |   20.53| 1035.06|        173|      0.91|      0|        10.0|326.7| 1544702792|1544735599|     0.21|            1.0E-4| 1544716800|         18.29|        1544688000|         33.83|        1544731200|                 13.79|                1544688000|                 32.85|                1544734800|\n",
      "|e219e545-a006-493...|1.543519080802E9|  19| 29|   11|2018-11-29 19:18:00|America/New_York|       North End|            West End|    Uber|997acbb5-e102-41e...|    UberPool|  5.5|    1.11|             1.0| 42.3647| -71.0542|      43.49|              37.19| Mostly Cloudy | Partly cloudy th...|            0.0|              0.0|    0.52|    12.13|   19.97|  1543514400|     9.796|          44.61|         1543510800|         28.79|        1543579200|                  38.21|                 1543510800|                 26.41|                1543575600|  partly-cloudy-day |   26.83| 1007.12|        313|      0.53|      0|       9.796|309.7| 1543492402|1543526092|     0.75|               0.0| 1543510800|         35.35|        1543550400|         44.61|        1543510800|                 31.14|                1543550400|                 38.21|                1543510800|\n",
      "|fa5fb705-03a0-4eb...|1.543673584211E9|  14|  1|   12|2018-12-01 14:13:04|America/New_York|       North End|            West End|    Uber|8cf7e821-f0d3-49c...|        Taxi|   NA|    1.11|             1.0| 42.3647| -71.0542|      36.99|              32.27| Partly Cloudy | Light rain in th...|            0.0|              0.0|    0.68|     5.87|    6.26|  1543672800|      9.91|          44.66|         1543690800|         35.04|        1543712400|                  43.99|                 1543690800|                 35.69|                1543712400|  partly-cloudy-day |   27.53| 1022.32|        344|      0.44|      1|        9.91|280.1| 1543665331|1543698851|     0.82|               0.0| 1543683600|         31.71|        1543658400|         44.66|        1543690800|                 28.06|                1543658400|                 43.99|                1543690800|\n",
      "|18d580ac-c91a-4b6...|1.544940911553E9|   6| 16|   12|2018-12-16 06:15:11|America/New_York|   North Station|    Haymarket Square|    Lyft|           lyft_plus|     Lyft XL|   11|    0.72|             1.0| 42.3661| -71.0631|      40.36|              35.52|         Clear | Rain throughout ...|            0.0|              0.0|    0.69|     7.08|    8.47|  1545015600|      10.0|          43.78|         1544990400|         34.12|        1545044400|                  38.39|                 1544986800|                 28.21|                1545044400|        clear-night |   30.94| 1022.94|         52|      0.06|      0|        10.0|298.7| 1544962122|1544994841|      0.3|            0.1246| 1544979600|         38.94|        1544954400|         43.78|        1544990400|                 33.76|                1545019200|                 38.39|                1544986800|\n",
      "+--------------------+----------------+----+---+-----+-------------------+----------------+----------------+--------------------+--------+--------------------+------------+-----+--------+----------------+--------+---------+-----------+-------------------+---------------+--------------------+---------------+-----------------+--------+---------+--------+------------+----------+---------------+-------------------+--------------+------------------+-----------------------+---------------------------+----------------------+--------------------------+--------------------+--------+--------+-----------+----------+-------+------------+-----+-----------+----------+---------+------------------+-----------+--------------+------------------+--------------+------------------+----------------------+--------------------------+----------------------+--------------------------+\n",
      "only showing top 20 rows\n",
      "\n"
     ]
    }
   ],
   "source": [
    "df = spark.read.csv(\"rideshare_kaggle.csv\", header=True, inferSchema=True)\n",
    "df.show()"
   ]
  },
  {
   "cell_type": "code",
   "execution_count": 3,
   "metadata": {},
   "outputs": [
    {
     "name": "stdout",
     "output_type": "stream",
     "text": [
      "+----------------+--------------------+-----+--------+--------+------------+----------------+\n",
      "|          source|         destination|price|distance|cab_type|        name|surge_multiplier|\n",
      "+----------------+--------------------+-----+--------+--------+------------+----------------+\n",
      "|Haymarket Square|       North Station|    5|    0.44|    Lyft|      Shared|             1.0|\n",
      "|Haymarket Square|       North Station|   11|    0.44|    Lyft|         Lux|             1.0|\n",
      "|Haymarket Square|       North Station|    7|    0.44|    Lyft|        Lyft|             1.0|\n",
      "|Haymarket Square|       North Station|   26|    0.44|    Lyft|Lux Black XL|             1.0|\n",
      "|Haymarket Square|       North Station|    9|    0.44|    Lyft|     Lyft XL|             1.0|\n",
      "|Haymarket Square|       North Station| 16.5|    0.44|    Lyft|   Lux Black|             1.0|\n",
      "|        Back Bay|Northeastern Univ...| 10.5|    1.08|    Lyft|     Lyft XL|             1.0|\n",
      "|        Back Bay|Northeastern Univ...| 16.5|    1.08|    Lyft|   Lux Black|             1.0|\n",
      "|        Back Bay|Northeastern Univ...|    3|    1.08|    Lyft|      Shared|             1.0|\n",
      "|        Back Bay|Northeastern Univ...| 27.5|    1.08|    Lyft|Lux Black XL|             1.0|\n",
      "|        Back Bay|Northeastern Univ...| 13.5|    1.08|    Lyft|         Lux|             1.0|\n",
      "|        Back Bay|Northeastern Univ...|    7|    1.08|    Lyft|        Lyft|             1.0|\n",
      "|       North End|            West End|   12|    1.11|    Uber|      UberXL|             1.0|\n",
      "|       North End|            West End|   16|    1.11|    Uber|       Black|             1.0|\n",
      "|       North End|            West End|  7.5|    1.11|    Uber|       UberX|             1.0|\n",
      "|       North End|            West End|  7.5|    1.11|    Uber|         WAV|             1.0|\n",
      "|       North End|            West End|   26|    1.11|    Uber|   Black SUV|             1.0|\n",
      "|       North End|            West End|  5.5|    1.11|    Uber|    UberPool|             1.0|\n",
      "|       North End|            West End|   NA|    1.11|    Uber|        Taxi|             1.0|\n",
      "|   North Station|    Haymarket Square|   11|    0.72|    Lyft|     Lyft XL|             1.0|\n",
      "+----------------+--------------------+-----+--------+--------+------------+----------------+\n",
      "only showing top 20 rows\n",
      "\n"
     ]
    }
   ],
   "source": [
    "df = df.select(['source','destination','price','distance','cab_type','name','surge_multiplier'])\n",
    "df.show()"
   ]
  },
  {
   "cell_type": "code",
   "execution_count": 4,
   "metadata": {},
   "outputs": [
    {
     "name": "stdout",
     "output_type": "stream",
     "text": [
      "root\n",
      " |-- source: string (nullable = true)\n",
      " |-- destination: string (nullable = true)\n",
      " |-- price: string (nullable = true)\n",
      " |-- distance: double (nullable = true)\n",
      " |-- cab_type: string (nullable = true)\n",
      " |-- name: string (nullable = true)\n",
      " |-- surge_multiplier: double (nullable = true)\n",
      "\n"
     ]
    }
   ],
   "source": [
    "df.printSchema()"
   ]
  },
  {
   "cell_type": "code",
   "execution_count": 5,
   "metadata": {},
   "outputs": [
    {
     "name": "stdout",
     "output_type": "stream",
     "text": [
      "+----------------+--------------------+-----+--------+--------+------------+----------------+\n",
      "|          source|         destination|price|distance|cab_type|        name|surge_multiplier|\n",
      "+----------------+--------------------+-----+--------+--------+------------+----------------+\n",
      "|Haymarket Square|       North Station|    5|    0.44|    Lyft|      Shared|             1.0|\n",
      "|Haymarket Square|       North Station|   11|    0.44|    Lyft|         Lux|             1.0|\n",
      "|Haymarket Square|       North Station|    7|    0.44|    Lyft|        Lyft|             1.0|\n",
      "|Haymarket Square|       North Station|   26|    0.44|    Lyft|Lux Black XL|             1.0|\n",
      "|Haymarket Square|       North Station|    9|    0.44|    Lyft|     Lyft XL|             1.0|\n",
      "|Haymarket Square|       North Station| 16.5|    0.44|    Lyft|   Lux Black|             1.0|\n",
      "|        Back Bay|Northeastern Univ...| 10.5|    1.08|    Lyft|     Lyft XL|             1.0|\n",
      "|        Back Bay|Northeastern Univ...| 16.5|    1.08|    Lyft|   Lux Black|             1.0|\n",
      "|        Back Bay|Northeastern Univ...|    3|    1.08|    Lyft|      Shared|             1.0|\n",
      "|        Back Bay|Northeastern Univ...| 27.5|    1.08|    Lyft|Lux Black XL|             1.0|\n",
      "|        Back Bay|Northeastern Univ...| 13.5|    1.08|    Lyft|         Lux|             1.0|\n",
      "|        Back Bay|Northeastern Univ...|    7|    1.08|    Lyft|        Lyft|             1.0|\n",
      "|       North End|            West End|   12|    1.11|    Uber|      UberXL|             1.0|\n",
      "|       North End|            West End|   16|    1.11|    Uber|       Black|             1.0|\n",
      "|       North End|            West End|  7.5|    1.11|    Uber|       UberX|             1.0|\n",
      "|       North End|            West End|  7.5|    1.11|    Uber|         WAV|             1.0|\n",
      "|       North End|            West End|   26|    1.11|    Uber|   Black SUV|             1.0|\n",
      "|       North End|            West End|  5.5|    1.11|    Uber|    UberPool|             1.0|\n",
      "|   North Station|    Haymarket Square|   11|    0.72|    Lyft|     Lyft XL|             1.0|\n",
      "|   North Station|    Haymarket Square| 16.5|    0.72|    Lyft|   Lux Black|             1.0|\n",
      "+----------------+--------------------+-----+--------+--------+------------+----------------+\n",
      "only showing top 20 rows\n",
      "\n"
     ]
    }
   ],
   "source": [
    "df = df.replace(\"NA\", None)\n",
    "df = df.dropna()\n",
    "df.show()"
   ]
  },
  {
   "cell_type": "code",
   "execution_count": 6,
   "metadata": {},
   "outputs": [
    {
     "name": "stdout",
     "output_type": "stream",
     "text": [
      "source: 0\n",
      "destination: 0\n",
      "price: 0\n",
      "distance: 0\n",
      "cab_type: 0\n",
      "name: 0\n",
      "surge_multiplier: 0\n"
     ]
    }
   ],
   "source": [
    "for i in df.columns:\n",
    "  print(i+\":\",df[df[i].isNull()].count())"
   ]
  },
  {
   "cell_type": "code",
   "execution_count": 7,
   "metadata": {},
   "outputs": [
    {
     "name": "stdout",
     "output_type": "stream",
     "text": [
      "+----------------+--------------------+-----+--------+--------+------------+----------------+\n",
      "|          source|         destination|price|distance|cab_type|        name|surge_multiplier|\n",
      "+----------------+--------------------+-----+--------+--------+------------+----------------+\n",
      "|Haymarket Square|       North Station|    5|    0.44|    Lyft|      Shared|             1.0|\n",
      "|Haymarket Square|       North Station|   11|    0.44|    Lyft|         Lux|             1.0|\n",
      "|Haymarket Square|       North Station|    7|    0.44|    Lyft|        Lyft|             1.0|\n",
      "|Haymarket Square|       North Station|   26|    0.44|    Lyft|Lux Black XL|             1.0|\n",
      "|Haymarket Square|       North Station|    9|    0.44|    Lyft|     Lyft XL|             1.0|\n",
      "|Haymarket Square|       North Station| 16.5|    0.44|    Lyft|   Lux Black|             1.0|\n",
      "|        Back Bay|Northeastern Univ...| 10.5|    1.08|    Lyft|     Lyft XL|             1.0|\n",
      "|        Back Bay|Northeastern Univ...| 16.5|    1.08|    Lyft|   Lux Black|             1.0|\n",
      "|        Back Bay|Northeastern Univ...|    3|    1.08|    Lyft|      Shared|             1.0|\n",
      "|        Back Bay|Northeastern Univ...| 27.5|    1.08|    Lyft|Lux Black XL|             1.0|\n",
      "|        Back Bay|Northeastern Univ...| 13.5|    1.08|    Lyft|         Lux|             1.0|\n",
      "|        Back Bay|Northeastern Univ...|    7|    1.08|    Lyft|        Lyft|             1.0|\n",
      "|       North End|            West End|   12|    1.11|    Uber|      UberXL|             1.0|\n",
      "|       North End|            West End|   16|    1.11|    Uber|       Black|             1.0|\n",
      "|       North End|            West End|  7.5|    1.11|    Uber|       UberX|             1.0|\n",
      "|       North End|            West End|  7.5|    1.11|    Uber|         WAV|             1.0|\n",
      "|       North End|            West End|   26|    1.11|    Uber|   Black SUV|             1.0|\n",
      "|       North End|            West End|  5.5|    1.11|    Uber|    UberPool|             1.0|\n",
      "|   North Station|    Haymarket Square|   11|    0.72|    Lyft|     Lyft XL|             1.0|\n",
      "|   North Station|    Haymarket Square| 16.5|    0.72|    Lyft|   Lux Black|             1.0|\n",
      "+----------------+--------------------+-----+--------+--------+------------+----------------+\n",
      "only showing top 20 rows\n",
      "\n"
     ]
    }
   ],
   "source": [
    "df.show()"
   ]
  },
  {
   "cell_type": "code",
   "execution_count": 8,
   "metadata": {},
   "outputs": [
    {
     "name": "stdout",
     "output_type": "stream",
     "text": [
      "root\n",
      " |-- source: string (nullable = true)\n",
      " |-- destination: string (nullable = true)\n",
      " |-- price: string (nullable = true)\n",
      " |-- distance: double (nullable = true)\n",
      " |-- cab_type: string (nullable = true)\n",
      " |-- name: string (nullable = true)\n",
      " |-- surge_multiplier: double (nullable = true)\n",
      "\n"
     ]
    }
   ],
   "source": [
    "df.printSchema()"
   ]
  },
  {
   "cell_type": "code",
   "execution_count": 9,
   "metadata": {},
   "outputs": [
    {
     "name": "stdout",
     "output_type": "stream",
     "text": [
      "Mean Squared Error (MSE): 2.6652395186031743\n",
      "Root Mean Squared Error (RMSE): 1.6325561303070637\n",
      "Mean Absolute Error (MAE): 1.0640932421922842\n",
      "R-squared (R2): 0.9694284629602662\n"
     ]
    }
   ],
   "source": [
    "import pandas as pd\n",
    "from sklearn.model_selection import train_test_split\n",
    "from sklearn.ensemble import GradientBoostingRegressor\n",
    "from sklearn.metrics import mean_squared_error, mean_absolute_error, r2_score\n",
    "from math import sqrt\n",
    "from sklearn.preprocessing import OneHotEncoder\n",
    "from sklearn.compose import ColumnTransformer\n",
    "from sklearn.pipeline import Pipeline\n",
    "from xgboost import XGBRegressor\n",
    "\n",
    "# Assuming 'df' is a pandas DataFrame containing your data\n",
    "# If 'df' is a PySpark DataFrame, you need to convert it to pandas before splitting the data\n",
    "df = df.toPandas()\n",
    "\n",
    "# Split the data randomly into train and test sets\n",
    "train_data, test_data = train_test_split(df, test_size=0.2, random_state=42)\n",
    "\n",
    "# Define the feature columns\n",
    "feature_columns = [\"distance\", \"surge_multiplier\", \"source\", \"destination\", \"cab_type\", \"name\"]\n",
    "\n",
    "# Define the target column\n",
    "target_column = \"price\"\n",
    "\n",
    "# Separate features and target\n",
    "X_train = train_data[feature_columns]\n",
    "y_train = train_data[target_column]\n",
    "\n",
    "X_test = test_data[feature_columns]\n",
    "y_test = test_data[target_column]\n",
    "\n",
    "# Create a ColumnTransformer for one-hot encoding categorical features\n",
    "preprocessor = ColumnTransformer(\n",
    "    transformers=[\n",
    "        ('cat', OneHotEncoder(), [\"source\", \"destination\", \"cab_type\", \"name\"])\n",
    "    ],\n",
    "    remainder='passthrough'\n",
    ")\n",
    "\n",
    "# Create a Pipeline with one-hot encoding and XGBoost Regressor\n",
    "model = Pipeline(steps=[\n",
    "    ('preprocessor', preprocessor),\n",
    "    ('regressor', XGBRegressor())\n",
    "])\n",
    "\n",
    "# Fit the model to the training data\n",
    "model.fit(X_train, y_train)\n",
    "\n",
    "# Make predictions on the test data\n",
    "predictions = model.predict(X_test)\n",
    "\n",
    "\n",
    "# Evaluate the model\n",
    "mse = mean_squared_error(y_test, predictions)\n",
    "rmse = sqrt(mse)\n",
    "mae = mean_absolute_error(y_test, predictions)\n",
    "r2 = r2_score(y_test, predictions)\n",
    "\n",
    "print(f\"Mean Squared Error (MSE): {mse}\")\n",
    "print(f\"Root Mean Squared Error (RMSE): {rmse}\")\n",
    "print(f\"Mean Absolute Error (MAE): {mae}\")\n",
    "print(f\"R-squared (R2): {r2}\")\n"
   ]
  },
  {
   "cell_type": "code",
   "execution_count": 13,
   "metadata": {},
   "outputs": [
    {
     "data": {
      "image/png": "[encoded data removed]",
      "text/plain": [
       "<Figure size 640x480 with 1 Axes>"
      ]
     },
     "metadata": {},
     "output_type": "display_data"
    }
   ],
   "source": [
    "import matplotlib.pyplot as plt\n",
    "\n",
    "# Actual values\n",
    "gbt_values = [90.80037906839223, 9.528923290088562, 6.212597625372304, 0.635627492360588]\n",
    "\n",
    "# Predicted values\n",
    "xgboost_values = [mse, rmse, mae, r2]\n",
    "\n",
    "# Create a bar plot\n",
    "plt.bar(['MSE', 'RMSE', 'MAE', 'R2'], gbt_values, label='Metrics for GBT')\n",
    "plt.bar(['MSE', 'RMSE', 'MAE', 'R2'], xgboost_values, label='Metrics for XGBoost')\n",
    "\n",
    "# Add labels and title\n",
    "plt.xlabel('Metrics')\n",
    "plt.ylabel('Values')\n",
    "plt.title('Comparison of Metric Values for GBT and XGBoost Regressor')\n",
    "\n",
    "# Add legend\n",
    "plt.legend()\n",
    "\n",
    "# Show the plot\n",
    "plt.show()\n"
   ]
  }
 ],
 "metadata": {
  "kernelspec": {
   "display_name": "pycaretenv",
   "language": "python",
   "name": "python3"
  },
  "language_info": {
   "codemirror_mode": {
    "name": "ipython",
    "version": 3
   },
   "file_extension": ".py",
   "mimetype": "text/x-python",
   "name": "python",
   "nbconvert_exporter": "python",
   "pygments_lexer": "ipython3",
   "version": "3.9.17"
  }
 },
 "nbformat": 4,
 "nbformat_minor": 2
}
